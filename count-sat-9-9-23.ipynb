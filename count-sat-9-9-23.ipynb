{
 "cells": [
  {
   "cell_type": "code",
   "execution_count": 7,
   "id": "17d39ff8",
   "metadata": {},
   "outputs": [
    {
     "name": "stdout",
     "output_type": "stream",
     "text": [
      "abcababcbdacdabddceabecdeba\n"
     ]
    },
    {
     "ename": "NameError",
     "evalue": "name 'Count' is not defined",
     "output_type": "error",
     "traceback": [
      "\u001b[1;31m---------------------------------------------------------------------------\u001b[0m",
      "\u001b[1;31mNameError\u001b[0m                                 Traceback (most recent call last)",
      "Cell \u001b[1;32mIn[7], line 8\u001b[0m\n\u001b[0;32m      5\u001b[0m list1 \u001b[38;5;241m=\u001b[39m \u001b[38;5;28mlist\u001b[39m(string_new)\n\u001b[0;32m      6\u001b[0m \u001b[38;5;66;03m# Get count occurrence of all values\u001b[39;00m\n\u001b[0;32m      7\u001b[0m \u001b[38;5;66;03m#from collections import Counter\u001b[39;00m\n\u001b[1;32m----> 8\u001b[0m count \u001b[38;5;241m=\u001b[39m Count(list1)\n\u001b[0;32m      9\u001b[0m \u001b[38;5;28mprint\u001b[39m(count)\n\u001b[0;32m     10\u001b[0m series_count \u001b[38;5;241m=\u001b[39m pd\u001b[38;5;241m.\u001b[39mSeries(list1)\u001b[38;5;241m.\u001b[39mvalue_counts()\n",
      "\u001b[1;31mNameError\u001b[0m: name 'Count' is not defined"
     ]
    }
   ],
   "source": [
    "import pandas as pd\n",
    "import numpy as np\n",
    "string_new = 'abcababcbdacdabddceabecdeba'\n",
    "print(string_new)\n",
    "list1 = list(string_new)\n",
    "# Get count occurrence of all values\n",
    "#from collections import Counter\n",
    "count = Count(list1)\n",
    "print(count)\n",
    "series_count = pd.Series(list1).value_counts()\n",
    "print(series_count)\n",
    "print(series_count.to_dict())\n",
    "new_dict = {'char':series_count.to_dict().keys(),\n",
    "            'freq':series_count.to_dict().values()}\n",
    "df = pd.DataFrame(new_dict)\n",
    "print(df)"
   ]
  },
  {
   "cell_type": "code",
   "execution_count": 8,
   "id": "d20e0508",
   "metadata": {},
   "outputs": [
    {
     "name": "stdout",
     "output_type": "stream",
     "text": [
      "abcababcbdacdabddceabecdeba\n",
      "a    7\n",
      "b    7\n",
      "c    5\n",
      "d    5\n",
      "e    3\n",
      "dtype: int64\n",
      "{'a': 7, 'b': 7, 'c': 5, 'd': 5, 'e': 3}\n",
      "  char  freq\n",
      "0    a     7\n",
      "1    b     7\n",
      "2    c     5\n",
      "3    d     5\n",
      "4    e     3\n"
     ]
    }
   ],
   "source": [
    "import pandas as pd\n",
    "import numpy as np\n",
    "string_new = 'abcababcbdacdabddceabecdeba'\n",
    "print(string_new)\n",
    "list1 = list(string_new)\n",
    "# Get count occurrence of all values\n",
    "#from collections import Counter\n",
    "#count = Counter(list1)\n",
    "#print(count)\n",
    "series_count = pd.Series(list1).value_counts()\n",
    "print(series_count)\n",
    "print(series_count.to_dict())\n",
    "new_dict = {'char':series_count.to_dict().keys(),\n",
    "            'freq':series_count.to_dict().values()}\n",
    "df = pd.DataFrame(new_dict)\n",
    "print(df)"
   ]
  },
  {
   "cell_type": "code",
   "execution_count": null,
   "id": "a58f7c45",
   "metadata": {},
   "outputs": [],
   "source": []
  }
 ],
 "metadata": {
  "kernelspec": {
   "display_name": "Python 3 (ipykernel)",
   "language": "python",
   "name": "python3"
  },
  "language_info": {
   "codemirror_mode": {
    "name": "ipython",
    "version": 3
   },
   "file_extension": ".py",
   "mimetype": "text/x-python",
   "name": "python",
   "nbconvert_exporter": "python",
   "pygments_lexer": "ipython3",
   "version": "3.11.4"
  }
 },
 "nbformat": 4,
 "nbformat_minor": 5
}
