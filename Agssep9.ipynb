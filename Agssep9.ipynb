{
 "cells": [
  {
   "cell_type": "code",
   "execution_count": 6,
   "id": "0da6247b",
   "metadata": {},
   "outputs": [
    {
     "name": "stdout",
     "output_type": "stream",
     "text": [
      "  SizeOfHouse    Price  Gender    Occupation  Age Type of the House  \\\n",
      "1       30*40  1900000       0      itempoly   45        aparetment   \n",
      "2       20*40  1500000       0     cardriver   38         townhouse   \n",
      "3       20*13   800000       1  Hotel manger   40             villa   \n",
      "4       30*70  2000000       1           eng   31         farmhouse   \n",
      "5       30*70  3500000       0        banker   49        Individual   \n",
      "\n",
      "   No of Rooms  \n",
      "1            3  \n",
      "2            2  \n",
      "3            2  \n",
      "4            3  \n",
      "5            4  \n",
      "Mapping\n",
      "1    NaN\n",
      "2    NaN\n",
      "3      2\n",
      "4      3\n",
      "5      4\n",
      "Name: Type of the House, dtype: object\n",
      "[1900000, 2000000, 3500000]\n"
     ]
    }
   ],
   "source": [
    "import pandas as pd\n",
    "from functools import reduce\n",
    "dfs=pd.DataFrame({\n",
    "    'SizeOfHouse':['30*40','20*40','20*13','30*70','30*70'],\n",
    "    'Price':[1900000,1500000,800000,2000000,3500000],\n",
    "    'Gender':['Male','Male','Female','Female','Male'],\n",
    "    'Gender':[0,0,1,1,0],\n",
    "    'Occupation':['itempoly','cardriver','Hotel manger','eng','banker' ],\n",
    "    'Age':[45,38,40,31,49],\n",
    "    'Type of the House':['aparetment','townhouse','villa','farmhouse','Individual'],\n",
    "    'No of Rooms':[3,2,2,3,4]\n",
    "},index=[1,2,3,4,5])\n",
    "print(dfs)\n",
    "print(\"Mapping\")\n",
    "def greater_than(n):\n",
    "    return n>1500000\n",
    "print(dfs['Type of the House'].map({'Individual':'4','villa':'2','farmhouse':'3'}))\n",
    "filtering=list(filter(lambda x:greater_than(x),dfs['Price']))\n",
    "print(filtering)\n",
    "#redcol=reduce(lambda x,y:x['Male']+y['Female']==sum(y),dfs['Gender'])"
   ]
  },
  {
   "cell_type": "code",
   "execution_count": null,
   "id": "96d0a5b8",
   "metadata": {},
   "outputs": [],
   "source": []
  }
 ],
 "metadata": {
  "kernelspec": {
   "display_name": "Python 3 (ipykernel)",
   "language": "python",
   "name": "python3"
  },
  "language_info": {
   "codemirror_mode": {
    "name": "ipython",
    "version": 3
   },
   "file_extension": ".py",
   "mimetype": "text/x-python",
   "name": "python",
   "nbconvert_exporter": "python",
   "pygments_lexer": "ipython3",
   "version": "3.11.4"
  }
 },
 "nbformat": 4,
 "nbformat_minor": 5
}
